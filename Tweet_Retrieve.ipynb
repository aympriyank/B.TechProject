{
  "nbformat": 4,
  "nbformat_minor": 0,
  "metadata": {
    "colab": {
      "provenance": []
    },
    "kernelspec": {
      "name": "python3",
      "display_name": "Python 3"
    },
    "language_info": {
      "name": "python"
    }
  },
  "cells": [
    {
      "cell_type": "markdown",
      "source": [
        "#MOUNT"
      ],
      "metadata": {
        "id": "YVfZBXexcBnt"
      }
    },
    {
      "cell_type": "code",
      "source": [
        "from google.colab import drive\n",
        "drive.mount('/content/drive')"
      ],
      "metadata": {
        "id": "kZ7O6aVtbc2f",
        "colab": {
          "base_uri": "https://localhost:8080/"
        },
        "outputId": "3f739d72-95fd-4a4a-bd58-9ad7dae2e1b8"
      },
      "execution_count": null,
      "outputs": [
        {
          "output_type": "stream",
          "name": "stdout",
          "text": [
            "Mounted at /content/drive\n"
          ]
        }
      ]
    },
    {
      "cell_type": "markdown",
      "source": [
        "#IMPORTS"
      ],
      "metadata": {
        "id": "rUBAQU7BcEye"
      }
    },
    {
      "cell_type": "code",
      "execution_count": null,
      "metadata": {
        "id": "tuUsyiFvbVRP"
      },
      "outputs": [],
      "source": [
        "import spacy\n",
        "from spacy import displacy\n",
        "from spacy import tokenizer\n",
        "import tweepy\n",
        "import datetime\n",
        "import sys\n",
        "import os\n",
        "import csv\n",
        "from itertools import combinations"
      ]
    },
    {
      "cell_type": "markdown",
      "source": [
        "#TWITTER AUTHENTICATION"
      ],
      "metadata": {
        "id": "2QBkyGYNcKQp"
      }
    },
    {
      "cell_type": "code",
      "source": [
        "client = tweepy.Client(\"AAAAAAAAAAAAAAAAAAAAAJFkOwEAAAAANz6uxV4%2BbHJOMd6B8waFjGD71No%3D76cdhvol60LR2s1T4bakR0KTqV2f6V4Cfa2FZ1u01rad8pIMOd\",wait_on_rate_limit=True)\n",
        "auth = tweepy.OAuth2BearerHandler(\"AAAAAAAAAAAAAAAAAAAAAJFkOwEAAAAANz6uxV4%2BbHJOMd6B8waFjGD71No%3D76cdhvol60LR2s1T4bakR0KTqV2f6V4Cfa2FZ1u01rad8pIMOd\")\n",
        "api = tweepy.API(auth,wait_on_rate_limit=True)\n",
        "consumer_key = \"86xM43yUqYsDOVEEG9l4QSlTE\"\n",
        "consumer_secret = \"W1jB00fdVVzRzyQd8p9mJnzKC9XAGQRqCP5G4hRKnoA3KM1Dna\"\n",
        "access_token = \"1156738416-CiGsQPHyWVUieqnCyDfWBz3OLqfpKDpiljj9zcr\"\n",
        "access_token_secret = \"P8UDrYvC9LnOIblV5WWgBvoTXkjNqHxzN2PUTyHivC0EW\"\n",
        "auth = tweepy.OAuthHandler(consumer_key, consumer_secret)\n",
        "auth.set_access_token(access_token, access_token_secret)\n",
        "nlp = spacy.load('en_core_web_sm')\n",
        "\n",
        "counter = 0\n",
        "total = 0"
      ],
      "metadata": {
        "id": "jCgz_-Y1b1z5"
      },
      "execution_count": null,
      "outputs": []
    },
    {
      "cell_type": "markdown",
      "source": [
        "#CODE"
      ],
      "metadata": {
        "id": "4aSC51_scSNS"
      }
    },
    {
      "cell_type": "code",
      "source": [
        "with open('label.txt') as topo_file:\n",
        "    for line in topo_file:\n",
        "        tweet_id = \"\"\n",
        "        tweet_text = \"\"\n",
        "\n",
        "        if(line[0]=='f'):\n",
        "          tweet_id = line[6:24]\n",
        "          tweet_id = str(tweet_id)\n",
        "          cnt = 0\n",
        "          for x in tweet_id:\n",
        "            if(x.isnumeric()):\n",
        "              cnt += 1\n",
        "          if(cnt == 18):\n",
        "            tweet_text = client.get_tweet(tweet_id).data\n",
        "\n",
        "        elif(line[0]=='t'):\n",
        "          tweet_id = line[5:23]\n",
        "          tweet_id = str(tweet_id)\n",
        "          cnt = 0\n",
        "          for x in tweet_id:\n",
        "            if(x.isnumeric()):\n",
        "              cnt += 1\n",
        "          if(cnt == 18):\n",
        "            tweet_text = client.get_tweet(tweet_id).data\n",
        "\n",
        "        else:\n",
        "          continue\n",
        "\n",
        "        print(tweet_id,tweet_text)\n",
        "\n",
        "        tweet_date = ''\n",
        "\n",
        "        if(tweet_text != None):\n",
        "            total += 1\n",
        "            tweet_date = api.get_status(tweet_id).created_at\n",
        "            tweet_hashtags = api.get_status(tweet_id).entities['hashtags']\n",
        "            counter += len(tweet_hashtags)\n",
        "            keywords = nlp(str(tweet_text))\n",
        "            ents = [(e.text,e.label_) for e in keywords.ents]\n",
        "            print(tweet_text)\n",
        "            entities = []\n",
        "            entities = set(entities)\n",
        "            for x in tweet_hashtags:\n",
        "                entities.add(x['text'])\n",
        "\n",
        "            for x in ents:\n",
        "                if(x[1]=='PERSON' or x[1]=='NORP' or x[1]=='ORG' or x[1]=='FAC' or x[1]=='GPE' or x[1]=='LOC' or x[1]=='EVENT' or x[1]=='PRODUCT'):\n",
        "                    newx = \"\"\n",
        "                    for letter in x[0]:\n",
        "                        if(letter.isalnum() or letter == ' '):\n",
        "                            newx += letter\n",
        "                    entities.add(newx)\n",
        "\n",
        "            entities = list(entities)\n",
        "            tweet_crowd = []\n",
        "            tweet_crowd = set(tweet_crowd)\n",
        "\n",
        "            for r in range(0,len(entities)):\n",
        "                realr = len(entities)-r\n",
        "                arr = list(combinations(entities, realr))\n",
        "                done = 0\n",
        "                for dict in arr:\n",
        "                    query = \"\"\n",
        "                    for ele in dict:\n",
        "                        query += ele\n",
        "                        query += \" \"\n",
        "                    if(len(query)>0):\n",
        "                        query = query [:len(query)-1]\n",
        "                        start_time = tweet_date\n",
        "                        end_time = tweet_date\n",
        "                        start_time -= datetime.timedelta(days=1)\n",
        "                        end_time += datetime.timedelta(days=1)\n",
        "                        tweets = client.search_all_tweets(query=query,start_time=start_time,end_time=end_time, max_results=100)\n",
        "                        tweets = tweets.data\n",
        "                        if( tweets is not None):\n",
        "                            for result in tweets:\n",
        "                                tweet_crowd.add((result.text))\n",
        "                                if(len(tweet_crowd)>=100):\n",
        "                                    done =1\n",
        "                                    break\n",
        "                        if(len(tweet_crowd)>=100):\n",
        "                            done = 1\n",
        "                            break\n",
        "                    if(done == 1):\n",
        "                        break\n",
        "                if(done == 1):\n",
        "                    break\n",
        "\n",
        "            if(line[0]=='t'):\n",
        "              os.chdir('BTPDataset/true')\n",
        "            else:\n",
        "              os.chdir('BTPDataset/false')\n",
        "\n",
        "            filename = tweet_id+'.csv'\n",
        "            with open(filename, 'w') as csvfile:\n",
        "                writer = csv.writer(csvfile)\n",
        "                temprow = []\n",
        "                temprow.append(tweet_text)\n",
        "                writer.writerow(temprow)\n",
        "                for x in tweet_crowd:\n",
        "                    temprow = []\n",
        "                    temprow.append(x)\n",
        "                    writer.writerow(temprow)\n",
        "\n",
        "            os.chdir('..')\n",
        "            os.chdir('..')\n"
      ],
      "metadata": {
        "id": "ax-o8Kf-cTjc"
      },
      "execution_count": null,
      "outputs": []
    },
    {
      "cell_type": "code",
      "source": [],
      "metadata": {
        "id": "llywjkGqy7dF"
      },
      "execution_count": null,
      "outputs": []
    }
  ]
}